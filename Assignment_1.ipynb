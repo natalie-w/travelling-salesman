{
 "cells": [
  {
   "cell_type": "markdown",
   "metadata": {},
   "source": [
    "## Logistics"
   ]
  },
  {
   "cell_type": "markdown",
   "metadata": {},
   "source": [
    "Name: Natalie Wang\n",
    "\n",
    "Username: natalimw\n",
    "\n",
    "** I have done the assignment in Jupyter notebook (so I have included the actual notebook in my file) but I have also included .py files for each section with the same code as in the Jupyter notebook for ease of testing.  For all code, you can run it by either running all cells in the jupyter notebook or running the .py files. **"
   ]
  },
  {
   "cell_type": "code",
   "execution_count": 226,
   "metadata": {
    "collapsed": true
   },
   "outputs": [],
   "source": [
    "## imports\n",
    "\n",
    "import pandas as pd\n",
    "import itertools\n",
    "import time\n",
    "import matplotlib.pyplot as plt\n",
    "import numpy as np\n",
    "import scipy\n",
    "from scipy import optimize\n",
    "import random\n",
    "import math\n",
    "from IPython.display import IFrame"
   ]
  },
  {
   "cell_type": "code",
   "execution_count": 2,
   "metadata": {
    "collapsed": true
   },
   "outputs": [],
   "source": [
    "## read in data\n",
    "\n",
    "cities = pd.read_csv('european_cities.csv', delimiter=';')\n",
    "cities.index = list(cities)"
   ]
  },
  {
   "cell_type": "markdown",
   "metadata": {},
   "source": [
    "## Exhaustive Search"
   ]
  },
  {
   "cell_type": "markdown",
   "metadata": {},
   "source": [
    "The following code finds the shortest tour through exhaustive search.  It uses itertools.permutations to find all possible paths of the cities. For the first 6 cities, it takes ~0.012 seconds and it found the shortest path to be ('Barcelona', 'Belgrade', 'Bucharest', 'Budapest', 'Berlin', 'Brussels') with a distance of 5018.81. Refer to the dataframe below for additional cities.  For 10 cities it took my program ~25 seconds.  I fit these 5 points to an exponential function using scipy.optimize.  I got $y = 4.81063196e-09 * e^{2.2372584 * x} +  1.12413959e-02$ where x is the number of cities and y is the time it takes for the program to run.  Plugging in 24 cities; it would take 1002992554807504.4 seconds or more than 31 million years.  You can run the code by opening the ipython notebook and running all of the cells below."
   ]
  },
  {
   "cell_type": "code",
   "execution_count": 3,
   "metadata": {},
   "outputs": [
    {
     "data": {
      "text/html": [
       "<div>\n",
       "<style>\n",
       "    .dataframe thead tr:only-child th {\n",
       "        text-align: right;\n",
       "    }\n",
       "\n",
       "    .dataframe thead th {\n",
       "        text-align: left;\n",
       "    }\n",
       "\n",
       "    .dataframe tbody tr th {\n",
       "        vertical-align: top;\n",
       "    }\n",
       "</style>\n",
       "<table border=\"1\" class=\"dataframe\">\n",
       "  <thead>\n",
       "    <tr style=\"text-align: right;\">\n",
       "      <th></th>\n",
       "      <th>num_cities</th>\n",
       "      <th>time</th>\n",
       "      <th>tour</th>\n",
       "      <th>distance</th>\n",
       "    </tr>\n",
       "  </thead>\n",
       "  <tbody>\n",
       "    <tr>\n",
       "      <th>0</th>\n",
       "      <td>6</td>\n",
       "      <td>0.012446</td>\n",
       "      <td>('Barcelona', 'Belgrade', 'Bucharest', 'Budape...</td>\n",
       "      <td>5018.81</td>\n",
       "    </tr>\n",
       "    <tr>\n",
       "      <th>1</th>\n",
       "      <td>7</td>\n",
       "      <td>0.039712</td>\n",
       "      <td>('Barcelona', 'Belgrade', 'Bucharest', 'Budape...</td>\n",
       "      <td>5487.89</td>\n",
       "    </tr>\n",
       "    <tr>\n",
       "      <th>2</th>\n",
       "      <td>8</td>\n",
       "      <td>0.301453</td>\n",
       "      <td>('Barcelona', 'Belgrade', 'Bucharest', 'Budape...</td>\n",
       "      <td>6667.49</td>\n",
       "    </tr>\n",
       "    <tr>\n",
       "      <th>3</th>\n",
       "      <td>9</td>\n",
       "      <td>2.682424</td>\n",
       "      <td>('Barcelona', 'Belgrade', 'Bucharest', 'Budape...</td>\n",
       "      <td>6678.55</td>\n",
       "    </tr>\n",
       "    <tr>\n",
       "      <th>4</th>\n",
       "      <td>10</td>\n",
       "      <td>25.043085</td>\n",
       "      <td>('Barcelona', 'Belgrade', 'Istanbul', 'Buchare...</td>\n",
       "      <td>7486.31</td>\n",
       "    </tr>\n",
       "  </tbody>\n",
       "</table>\n",
       "</div>"
      ],
      "text/plain": [
       "   num_cities       time                                               tour  \\\n",
       "0           6   0.012446  ('Barcelona', 'Belgrade', 'Bucharest', 'Budape...   \n",
       "1           7   0.039712  ('Barcelona', 'Belgrade', 'Bucharest', 'Budape...   \n",
       "2           8   0.301453  ('Barcelona', 'Belgrade', 'Bucharest', 'Budape...   \n",
       "3           9   2.682424  ('Barcelona', 'Belgrade', 'Bucharest', 'Budape...   \n",
       "4          10  25.043085  ('Barcelona', 'Belgrade', 'Istanbul', 'Buchare...   \n",
       "\n",
       "   distance  \n",
       "0   5018.81  \n",
       "1   5487.89  \n",
       "2   6667.49  \n",
       "3   6678.55  \n",
       "4   7486.31  "
      ]
     },
     "execution_count": 3,
     "metadata": {},
     "output_type": "execute_result"
    }
   ],
   "source": [
    "pd.read_csv('exhaustive_search_city_overview.csv').drop('Unnamed: 0', axis=1)"
   ]
  },
  {
   "cell_type": "code",
   "execution_count": 4,
   "metadata": {
    "collapsed": true
   },
   "outputs": [],
   "source": [
    "tours = pd.DataFrame(columns=['num_cities', 'time', 'tour', 'distance'])\n",
    "\n",
    "for i in range(6, 11):\n",
    "    num_cities = i\n",
    "\n",
    "    start_time = time.time()\n",
    "\n",
    "    sub_cities = cities.iloc[0:num_cities,0:num_cities]\n",
    "    possible_paths = [x for x in itertools.permutations(list(sub_cities))]\n",
    "\n",
    "    min_path = -1\n",
    "    min_dist = -1\n",
    "\n",
    "    for path in possible_paths:\n",
    "        ## only calculate paths starting from the same place to reduce redundancies\n",
    "        if path[0] != 'Barcelona':\n",
    "            break;\n",
    "        \n",
    "        ## calculate total distances\n",
    "        dist = 0\n",
    "        for city in range(len(path)-1):\n",
    "            dist += sub_cities.loc[path[city], path[city+1]]\n",
    "        dist += sub_cities.loc[path[-1], path[0]]\n",
    "\n",
    "        ## only change min_path is distance is shortest or first distance to be calculated\n",
    "        if min_dist > dist:\n",
    "            min_path = path\n",
    "            min_dist = dist\n",
    "\n",
    "        elif min_dist == -1:\n",
    "            min_path = path\n",
    "            min_dist = dist\n",
    "\n",
    "\n",
    "    runtime = time.time() - start_time\n",
    "\n",
    "    tours = tours.append(pd.DataFrame([[num_cities, runtime, min_path, min_dist]], columns=['num_cities', 'time', 'tour', 'distance']))\n",
    "\n",
    "## saving\n",
    "tours.to_csv('exhaustive_search_city_overview.csv')"
   ]
  },
  {
   "cell_type": "code",
   "execution_count": 5,
   "metadata": {},
   "outputs": [
    {
     "data": {
      "image/png": "[encoded data removed]",
      "text/plain": [
       "<matplotlib.figure.Figure at 0x10a19b470>"
      ]
     },
     "metadata": {},
     "output_type": "display_data"
    }
   ],
   "source": [
    "## experimental data\n",
    "xdata = np.array([int(c) for c in tours['num_cities']])\n",
    "ydata = np.array([float(t) for t in tours['time']])\n",
    "\n",
    "## exponential function to fit\n",
    "def func(x, a, b, c):\n",
    "    return a * np.exp(b * x) + c\n",
    "\n",
    "## fitting function\n",
    "popt, pcov = scipy.optimize.curve_fit(func, xdata, ydata)\n",
    "\n",
    "## plotting data\n",
    "plt.plot(xdata, ydata, 'ro', label='data')\n",
    "plt.plot(xdata, func(xdata, *popt))\n",
    "\n",
    "plt.title('Num Cities vs Runtime')\n",
    "plt.xlabel('Num Cities')\n",
    "plt.ylabel('Runtime (seconds)')\n",
    "\n",
    "plt.show()"
   ]
  },
  {
   "cell_type": "code",
   "execution_count": 6,
   "metadata": {},
   "outputs": [
    {
     "data": {
      "text/plain": [
       "array([6.40284262e-09, 2.21416714e+00, 9.60670973e-04])"
      ]
     },
     "execution_count": 6,
     "metadata": {},
     "output_type": "execute_result"
    }
   ],
   "source": [
    "## exponential equation coefficients\n",
    "\n",
    "popt"
   ]
  },
  {
   "cell_type": "code",
   "execution_count": 7,
   "metadata": {},
   "outputs": [
    {
     "data": {
      "text/plain": [
       "766984321546646.6"
      ]
     },
     "execution_count": 7,
     "metadata": {},
     "output_type": "execute_result"
    }
   ],
   "source": [
    "## estimated time for 24 cities\n",
    "\n",
    "func(24, *popt)"
   ]
  },
  {
   "cell_type": "markdown",
   "metadata": {},
   "source": [
    "## Hill Climbing"
   ]
  },
  {
   "cell_type": "markdown",
   "metadata": {
    "collapsed": true
   },
   "source": [
    "The hill climber performs pretty comparably to exhaustive search; some of the runs result in the same path as exhaustive search.  Note, exact numbers may be slightly different when you run it.  For the first 10 cities, the length of the best tour was 7486.31, the length of the worst tour was 8346.94, the mean of the tours was 7600.89, and the SD of the runs was 259.47.  For all 24 cities, the length of the best tour was 12396.32, the length of the worst tour was 15422.99, the mean of the tours was 14350.001, and the SD of the runs was 747.38. You can run the code by opening the ipython notebook and running all of the cells below."
   ]
  },
  {
   "cell_type": "code",
   "execution_count": 8,
   "metadata": {
    "collapsed": true
   },
   "outputs": [],
   "source": [
    "## returns the total length of a path\n",
    "\n",
    "def path_dist(path):\n",
    "    dist = 0\n",
    "    for city in range(len(path) - 1):\n",
    "        dist += cities.loc[path[city], path[city + 1]]\n",
    "    dist += cities.loc[path[-1], path[0]]\n",
    "    return dist"
   ]
  },
  {
   "cell_type": "code",
   "execution_count": 9,
   "metadata": {
    "collapsed": true
   },
   "outputs": [],
   "source": [
    "## creates random starting path \n",
    "\n",
    "def rand_start(city_list):\n",
    "    path = city_list\n",
    "    random.shuffle(path)\n",
    "    return path"
   ]
  },
  {
   "cell_type": "code",
   "execution_count": 10,
   "metadata": {
    "collapsed": true
   },
   "outputs": [],
   "source": [
    "## finds neighbors (neighbors defined as swapping cities in path) and returns best neighboring path\n",
    "\n",
    "def find_best_neighbor(path):\n",
    "    curr_dist = path_dist(path)\n",
    "    curr_path = path\n",
    "    swappings = itertools.combinations(range(0, len(path)), 2)\n",
    "    for swap in swappings:\n",
    "        city_0 = path[swap[0]]\n",
    "        city_1 = path[swap[1]]\n",
    "        \n",
    "        new_path = path.copy()\n",
    "        new_path[swap[0]] = city_1\n",
    "        new_path[swap[1]] = city_0\n",
    "        \n",
    "        new_dist = path_dist(new_path)\n",
    "        \n",
    "        ## if new path is shorter than curr path set curr path as new path and curr dist as new dist\n",
    "        if new_dist < curr_dist:\n",
    "            curr_path = new_path\n",
    "            curr_dist = new_dist\n",
    "    return curr_path"
   ]
  },
  {
   "cell_type": "code",
   "execution_count": 11,
   "metadata": {
    "collapsed": true
   },
   "outputs": [],
   "source": [
    "## implements hill climbing algorithm where neighbors count as current path switching 2 cities\n",
    "\n",
    "def hill_climber(num_cities):\n",
    "    subcities = cities.iloc[0:num_cities, 0:num_cities]\n",
    "    path = rand_start(list(subcities))\n",
    "    best_neighbor = find_best_neighbor(path)\n",
    "    ##print(path, best_neighbor, path != best_neighbor)\n",
    "    while (path != best_neighbor):\n",
    "        path = best_neighbor\n",
    "        #print(path_dist(path))\n",
    "        best_neighbor = find_best_neighbor(path)\n",
    "        #print(path_dist(best_neighbor))\n",
    "    \n",
    "    return path"
   ]
  },
  {
   "cell_type": "code",
   "execution_count": 12,
   "metadata": {},
   "outputs": [
    {
     "name": "stdout",
     "output_type": "stream",
     "text": [
      "best path distance:  7486.309999999999\n",
      "worst path distance:  8407.18\n",
      "mean path distance:  7573.457500000001\n",
      "SD of paths:  210.61855414172334\n"
     ]
    }
   ],
   "source": [
    "## hill climbing for first 10 cities\n",
    "\n",
    "best_path_distances = []\n",
    "\n",
    "for i in range(20):    \n",
    "    city_path = hill_climber(10)\n",
    "    best_path_distances.append(path_dist(city_path))\n",
    "    \n",
    "print('best path distance: ', min(best_path_distances))\n",
    "print('worst path distance: ', max(best_path_distances))\n",
    "print('mean path distance: ', np.mean(best_path_distances))\n",
    "print('SD of paths: ', np.std(best_path_distances))"
   ]
  },
  {
   "cell_type": "code",
   "execution_count": 13,
   "metadata": {},
   "outputs": [
    {
     "name": "stdout",
     "output_type": "stream",
     "text": [
      "best path distance:  12919.96\n",
      "worst path distance:  17826.33\n",
      "mean path distance:  14501.014500000001\n",
      "SD of paths:  1169.4001548335584\n"
     ]
    }
   ],
   "source": [
    "## hill climbing for first 24 cities\n",
    "\n",
    "best_path_distances = []\n",
    "\n",
    "for i in range(20):    \n",
    "    city_path = hill_climber(24)\n",
    "    best_path_distances.append(path_dist(city_path))\n",
    "    \n",
    "print('best path distance: ', min(best_path_distances))\n",
    "print('worst path distance: ', max(best_path_distances))\n",
    "print('mean path distance: ', np.mean(best_path_distances))\n",
    "print('SD of paths: ', np.std(best_path_distances))"
   ]
  },
  {
   "cell_type": "markdown",
   "metadata": {},
   "source": [
    "## Genetic Algorithm"
   ]
  },
  {
   "cell_type": "markdown",
   "metadata": {
    "collapsed": true
   },
   "source": [
    "I have chosen 10, 25, and 50 as my population sizes.  Note: some number (like time per function run) may vary slightly due to this being a stochastic process.  Also all figures referred to below are saved as .csvs or .pdfs in the folder.\n",
    "\n",
    "\n",
    "I have found  the following results for 20 runs of my GA for the first 10 cities:\n",
    "\n",
    "|pop size|best path|worst path|mean path|SD|avg runtime|\n",
    "|--------|---------|----------|---------|--|-----------|\n",
    "|10|7549.16|8672.54|8207.72|253.789|1.43887|\n",
    "|15|7486.31|7503.1|7489.67|6.716|1.91477|\n",
    "|20|7486.31|7737.95|7509.56|59.455|1.89039|\n",
    "\n",
    "See below for the figure of average fitness of the best fit individual in each generation.  It appears that 15 or 20 would be appropriate population sizes and num generations is < 100.\n",
    "\n",
    "Among the first 10 cities, my GA found the shortest tour (as found by the exhaustive search) when the population size was 15 and 20 and offspring number was 10.  \n",
    "\n",
    "My runtime for 10 cities with my GA was much faster (~4.6 seconds) compared to my runtime for 10 cities with exhaustive search (~23 seconds).  Performing my GA on 24 cities, our shortest path found was 12703.99.  My runtime for 24 cities with my GA was ~5.5 seconds which was much much faster than the estimated time for exhaustive search.  \n",
    "\n",
    "For 10 cities, my GA (with population 15, offspring 10, and assuming 100 runs) compared 1500 tours (i.e. 15 * 100) while exhaustive search compared 181440 tours (i.e. $\\frac{(n-1)!}{2}$).  For 24, GA (with population 15, offspring 10, and assuming 100 runs) = 1500 tours, Exhaustive Search = 1.292600836944249e+22 tours.\n",
    "\n",
    "Directly under this cell, I have put all relevant data frames I have created for this problem.  To create them again, simply run the cells below (after running the import statements at the beginning and loading in data."
   ]
  },
  {
   "cell_type": "code",
   "execution_count": 253,
   "metadata": {},
   "outputs": [
    {
     "data": {
      "text/html": [
       "\n",
       "        <iframe\n",
       "            width=\"700\"\n",
       "            height=\"500\"\n",
       "            src=\"avg_path_10_cities.pdf\"\n",
       "            frameborder=\"0\"\n",
       "            allowfullscreen\n",
       "        ></iframe>\n",
       "        "
      ],
      "text/plain": [
       "<IPython.lib.display.IFrame at 0x15150cc9e8>"
      ]
     },
     "execution_count": 253,
     "metadata": {},
     "output_type": "execute_result"
    }
   ],
   "source": [
    "##NOTE: RUN EACH LINE IN DIFFERENT CELL TO VIEW\n",
    "\n",
    "## 10 City GA - best, worst, mean, SD, avg time\n",
    "pd.read_csv('10_city_GA.csv')\n",
    "\n",
    "## 10 City Avg Path Dist for Each Run for Each Population\n",
    "pd.read_csv('10_city_GA_runs.csv')\n",
    "\n",
    "## 10 city graph\n",
    "IFrame(\"avg_path_10_cities.pdf\", 700, 500)"
   ]
  },
  {
   "cell_type": "code",
   "execution_count": 257,
   "metadata": {},
   "outputs": [
    {
     "data": {
      "text/html": [
       "\n",
       "        <iframe\n",
       "            width=\"700\"\n",
       "            height=\"500\"\n",
       "            src=\"avg_path_24_cities.pdf\"\n",
       "            frameborder=\"0\"\n",
       "            allowfullscreen\n",
       "        ></iframe>\n",
       "        "
      ],
      "text/plain": [
       "<IPython.lib.display.IFrame at 0x15159215f8>"
      ]
     },
     "execution_count": 257,
     "metadata": {},
     "output_type": "execute_result"
    }
   ],
   "source": [
    "##NOTE: RUN EACH LINE IN DIFFERENT CELL TO VIEW\n",
    "\n",
    "## 24 City GA - best, worst, mean, SD, avg time\n",
    "pd.read_csv('24_city_GA.csv')\n",
    "\n",
    "## 24 City Avg Path Dist for Each Run for Each Population\n",
    "pd.read_csv('24_city_GA_runs.csv')\n",
    "\n",
    "## 24 city graph\n",
    "IFrame(\"avg_path_24_cities.pdf\", 700, 500)"
   ]
  },
  {
   "cell_type": "code",
   "execution_count": 14,
   "metadata": {
    "collapsed": true
   },
   "outputs": [],
   "source": [
    "## creates random starting path \n",
    "\n",
    "def rand_start(city_list):\n",
    "    path = city_list\n",
    "    random.shuffle(path)\n",
    "    return path"
   ]
  },
  {
   "cell_type": "code",
   "execution_count": 15,
   "metadata": {
    "collapsed": true
   },
   "outputs": [],
   "source": [
    "## initialize a random population to start\n",
    "\n",
    "def rand_pop(num_cities, pop_size):\n",
    "    subcities = cities.iloc[0:num_cities, 0:num_cities]\n",
    "    \n",
    "    pos_cities = list(subcities)\n",
    "    \n",
    "    pop = []\n",
    "    \n",
    "    for i in range(pop_size):\n",
    "        r = rand_start(pos_cities)\n",
    "        pop.append(r.copy())\n",
    "        \n",
    "    return pop"
   ]
  },
  {
   "cell_type": "code",
   "execution_count": 16,
   "metadata": {
    "collapsed": true
   },
   "outputs": [],
   "source": [
    "## returns the total length of a path\n",
    "\n",
    "def path_dist(path):\n",
    "    dist = 0\n",
    "    for city in range(len(path) - 1):\n",
    "        dist += cities.loc[path[city], path[city + 1]]\n",
    "    dist += cities.loc[path[-1], path[0]]\n",
    "    return dist"
   ]
  },
  {
   "cell_type": "code",
   "execution_count": 101,
   "metadata": {
    "collapsed": true
   },
   "outputs": [],
   "source": [
    "## select parents as shortest routes\n",
    "\n",
    "def select_parents(pop, num_offspring):\n",
    "    path_lens = {}\n",
    "    \n",
    "    for path in pop:\n",
    "        dist = path_dist(path)\n",
    "        while dist in path_lens.keys():\n",
    "            dist += .001\n",
    "        \n",
    "        path_lens[dist] = path\n",
    "    p_keys = list(path_lens.keys())\n",
    "    p_keys.sort()\n",
    "    parents = p_keys[0:num_offspring*2]\n",
    "    return [path_lens[p] for p in parents]"
   ]
  },
  {
   "cell_type": "code",
   "execution_count": 18,
   "metadata": {
    "collapsed": true
   },
   "outputs": [],
   "source": [
    "## make offspring form 2 parents\n",
    "\n",
    "def make_offspring(parents, rand_seg):\n",
    "    p1 = parents[0]\n",
    "    p2 = parents[1]\n",
    "    \n",
    "    poss_starts = range(len(p1) - rand_seg)\n",
    "    start = random.sample(poss_starts, 1)[0]\n",
    "    \n",
    "    offspring = list(np.zeros(len(p1)))\n",
    "    \n",
    "    ## copy randomly selected set from first parent\n",
    "    for i in range(rand_seg):\n",
    "        offspring[start+i] = p1[start+i]\n",
    "        \n",
    "    ## copy rest from second parent order\n",
    "    s_order = list(p2[start+rand_seg::] + p2[0:start+rand_seg])\n",
    "    \n",
    "    for city in range(len(offspring)):\n",
    "        if offspring[city] == 0:\n",
    "            for elm in s_order:\n",
    "                if elm not in offspring:\n",
    "                    offspring[city] = elm\n",
    "                    break;\n",
    "                    \n",
    "    return offspring\n",
    "    "
   ]
  },
  {
   "cell_type": "code",
   "execution_count": 19,
   "metadata": {
    "collapsed": true
   },
   "outputs": [],
   "source": [
    "## make new population\n",
    "\n",
    "def make_new(pop, num_offspring):\n",
    "    ## choose parents\n",
    "    parents = select_parents(pop, num_offspring)\n",
    "    pos_pairs = random.sample([x for x in itertools.combinations(range(len(parents)), 2)], num_offspring)\n",
    "    \n",
    "    ## make offspring\n",
    "    kids = []\n",
    "    \n",
    "    for pair in pos_pairs:\n",
    "        offspring = make_offspring([parents[pair[0]], parents[pair[1]]], num_offspring//2)\n",
    "        kids.append(offspring)\n",
    "        \n",
    "    return kids"
   ]
  },
  {
   "cell_type": "code",
   "execution_count": 20,
   "metadata": {
    "collapsed": true
   },
   "outputs": [],
   "source": [
    "## see how population performs\n",
    "\n",
    "def performance(population):\n",
    "    performance = []\n",
    "    for i in population:\n",
    "        performance.append(path_dist(i))\n",
    "    return min(performance)"
   ]
  },
  {
   "cell_type": "code",
   "execution_count": 194,
   "metadata": {},
   "outputs": [],
   "source": [
    "## perform genetic algo\n",
    "\n",
    "def genetic_algo(num_cities, pop_size, num_offspring):\n",
    "    \n",
    "    ## create randomized starting population\n",
    "    init_pop = rand_pop(num_cities, pop_size)\n",
    "    \n",
    "    ## select parent group\n",
    "    parents = select_parents(init_pop, num_offspring)\n",
    "    \n",
    "    ## make kids from parents\n",
    "    kids = make_new(parents, num_offspring)\n",
    "\n",
    "    ## best kids for each run\n",
    "    best_kid = [performance(init_pop)]\n",
    "    \n",
    "    i = 1500\n",
    "    ## make sure the algo runs at least 100 generations but no more than 1500\n",
    "    while (performance(parents) != performance(kids) and i > 1  or i > 1400):\n",
    "        i -= 1\n",
    "        if pop_size > num_offspring:\n",
    "            start = time.time()\n",
    "            parents = select_parents(kids + parents, num_offspring)\n",
    "            kids = make_new(parents, num_offspring)\n",
    "            best_kid.append(performance(kids))\n",
    "        elif pop_size == num_offspring:\n",
    "            parents = kids\n",
    "            kids = make_new(parents, num_offspring)\n",
    "            best_kid.append(performance(kids))\n",
    "        else:\n",
    "            parents = select_parents(kids, num_offspring)\n",
    "            kids = make_new(parents, num_offspring)\n",
    "            best_kid.append(performance(kids))\n",
    "            \n",
    "    return best_kid"
   ]
  },
  {
   "cell_type": "code",
   "execution_count": 195,
   "metadata": {},
   "outputs": [
    {
     "name": "stdout",
     "output_type": "stream",
     "text": [
      "best path:  5018.8099999999995\n",
      "num gens:  101\n",
      "total time:  0.19656801223754883\n"
     ]
    }
   ],
   "source": [
    "## example using GA on 6 cities\n",
    "\n",
    "start = time.time()\n",
    "gens = genetic_algo(6, 10, 5)\n",
    "t = time.time() - start\n",
    "print('best path: ', min(gens))\n",
    "print('num gens: ', len(gens))\n",
    "print('total time: ', t)"
   ]
  },
  {
   "cell_type": "code",
   "execution_count": 197,
   "metadata": {},
   "outputs": [
    {
     "name": "stdout",
     "output_type": "stream",
     "text": [
      "best path:  7486.3099999999995\n",
      "num gens:  1500\n",
      "total time:  4.631490230560303\n"
     ]
    }
   ],
   "source": [
    "## example using GA on 10 cities\n",
    "\n",
    "start = time.time()\n",
    "gens = genetic_algo(10, 10, 5)\n",
    "t = time.time() - start\n",
    "print('best path: ', min(gens))\n",
    "print('num gens: ', len(gens))\n",
    "print('total time: ', t)"
   ]
  },
  {
   "cell_type": "code",
   "execution_count": 213,
   "metadata": {},
   "outputs": [
    {
     "name": "stdout",
     "output_type": "stream",
     "text": [
      "best path:  13702.89\n",
      "num gens:  354\n",
      "total time:  5.506443023681641\n"
     ]
    }
   ],
   "source": [
    "## example using GA on 24 cities\n",
    "\n",
    "start = time.time()\n",
    "gens = genetic_algo(24, 20, 10)\n",
    "t = time.time() - start\n",
    "print('best path: ', min(gens))\n",
    "print('num gens: ', len(gens))\n",
    "print('total time: ', t)"
   ]
  },
  {
   "cell_type": "code",
   "execution_count": 254,
   "metadata": {
    "collapsed": true
   },
   "outputs": [],
   "source": [
    "## perform GA for given number of cities and create associated data tables and plots\n",
    "\n",
    "def perform_GA(num_cities):\n",
    "    pop_sizes = [10, 15, 20]\n",
    "    \n",
    "    tens = []\n",
    "    tens_time = []\n",
    "    ten_runs = pd.DataFrame(columns = range(100))\n",
    "\n",
    "    one_hundred = []\n",
    "    one_hundred_time = []\n",
    "    one_hundred_runs = pd.DataFrame(columns = range(100))\n",
    "\n",
    "    two_hundred = []\n",
    "    two_hundred_time = []\n",
    "    two_hundred_runs = pd.DataFrame(columns = range(100))\n",
    "    \n",
    "    for i in range(20):\n",
    "        for p in pop_sizes:\n",
    "            if p == 10:\n",
    "                start_time = time.time()\n",
    "                g = genetic_algo(num_cities, p, 10)\n",
    "                tens.append(min(g))\n",
    "                tens_time.append(time.time() - start_time)\n",
    "                ten_runs.loc[i,:] = g[0:100]\n",
    "                \n",
    "            elif p == 15:\n",
    "                start_time = time.time()\n",
    "                g = genetic_algo(num_cities, p, 10)\n",
    "                one_hundred.append(min(g))\n",
    "                one_hundred_time.append(time.time() - start_time)\n",
    "                one_hundred_runs.loc[i,:] = g[0:100]\n",
    "                \n",
    "            else:\n",
    "                start_time = time.time()\n",
    "                g = genetic_algo(num_cities, p, 10)\n",
    "                two_hundred.append(min(g))\n",
    "                two_hundred_time.append(time.time() - start_time)\n",
    "                two_hundred_runs.loc[i,:] = g[0:100]\n",
    "                \n",
    "    \n",
    "    stats = pd.DataFrame(columns=['best path', 'worst path', 'mean path', 'SD', 'avg runtime'])\n",
    "    run_stats = pd.DataFrame(columns=list(range(len(ten_runs))))\n",
    "\n",
    "    results = [tens, one_hundred, two_hundred]\n",
    "    times = [tens_time, one_hundred_time, two_hundred_time]\n",
    "    runs = [ten_runs, one_hundred_runs, two_hundred_runs]\n",
    "\n",
    "    for i in range(len(pop_sizes)):\n",
    "        stats.loc[pop_sizes[i], 'best path'] = min(results[i])\n",
    "        stats.loc[pop_sizes[i], 'worst path'] = max(results[i])\n",
    "        stats.loc[pop_sizes[i], 'mean path'] = np.mean(results[i])\n",
    "        stats.loc[pop_sizes[i], 'SD'] = np.std(results[i])\n",
    "        stats.loc[pop_sizes[i], 'avg runtime'] = np.mean(times[i])\n",
    "\n",
    "        for j in range(100):\n",
    "            run_stats.loc[pop_sizes[i], j] = np.mean(runs[i][j])\n",
    "\n",
    "    ## saving\n",
    "    stats.to_csv(str(num_cities) + '_city_GA.csv')\n",
    "    run_stats.to_csv(str(num_cities) + '_city_GA_runs.csv')\n",
    "    \n",
    "    ## plotting avg best performing run for each pop size\n",
    "    f = run_stats.T.plot()\n",
    "    plt.title('Avg Path Distance for ' + str(num_cities) + ' Cities')\n",
    "    plt.xlabel('Run #')\n",
    "    plt.ylabel('Distance')\n",
    "    plt.legend(title='pop size', fancybox=True)\n",
    "    plt.show()\n",
    "    fig = f.get_figure()\n",
    "    fig.savefig('avg_path_' + str(num_cities) + '_cities.pdf', bbox_inches='tight')\n",
    "    \n",
    "    return min(min(tens), min(one_hundred), min(two_hundred))"
   ]
  },
  {
   "cell_type": "code",
   "execution_count": 222,
   "metadata": {},
   "outputs": [
    {
     "data": {
      "image/png": "[encoded data removed]",
      "text/plain": [
       "<matplotlib.figure.Figure at 0x151633a0f0>"
      ]
     },
     "metadata": {},
     "output_type": "display_data"
    },
    {
     "data": {
      "text/plain": [
       "7486.3099999999995"
      ]
     },
     "execution_count": 222,
     "metadata": {},
     "output_type": "execute_result"
    }
   ],
   "source": [
    "perform_GA(10)"
   ]
  },
  {
   "cell_type": "code",
   "execution_count": 256,
   "metadata": {},
   "outputs": [
    {
     "data": {
      "image/png": "[encoded data removed]",
      "text/plain": [
       "<matplotlib.figure.Figure at 0x15180246a0>"
      ]
     },
     "metadata": {},
     "output_type": "display_data"
    },
    {
     "data": {
      "text/plain": [
       "12703.99"
      ]
     },
     "execution_count": 256,
     "metadata": {},
     "output_type": "execute_result"
    }
   ],
   "source": [
    "perform_GA(24)"
   ]
  }
 ],
 "metadata": {
  "kernelspec": {
   "display_name": "Python 3",
   "language": "python",
   "name": "python3"
  },
  "language_info": {
   "codemirror_mode": {
    "name": "ipython",
    "version": 3
   },
   "file_extension": ".py",
   "mimetype": "text/x-python",
   "name": "python",
   "nbconvert_exporter": "python",
   "pygments_lexer": "ipython3",
   "version": "3.6.4"
  }
 },
 "nbformat": 4,
 "nbformat_minor": 2
}
